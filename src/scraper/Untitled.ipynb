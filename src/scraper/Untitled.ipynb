{
 "cells": [
  {
   "cell_type": "code",
   "execution_count": 8,
   "metadata": {},
   "outputs": [],
   "source": [
    "class WebDriverSetup:\n",
    "    def __init__(self, url, headless):\n",
    "        self._timeout = 30\n",
    "        self._options = Options()\n",
    "        self._options.headless = headless\n",
    "        self._profile = self._disable_Images_Firefox_Profile()\n",
    "\n",
    "        self.driver = webdriver.Firefox(\n",
    "            firefox_profile=self._profile, options=self._options, timeout=self._timeout\n",
    "        )\n",
    "\n",
    "        if self._options.headless:\n",
    "            self.logger.info(\"Headless Firefox Initialized.\")\n",
    "\n",
    "        try:\n",
    "            # Navigate to the makro URL.\n",
    "            self.logger.info(f\"Navigating to {url}.\")\n",
    "            self.driver.get(url)\n",
    "        except TimeoutException:\n",
    "            self.logger.exception(\"Timed-out while loading page.\")\n",
    "            self.close_session()\n",
    "            sys.exit(1)\n",
    "        else:\n",
    "            # Obtain the source\n",
    "            self.html = self.driver.page_source\n",
    "            self.soup = BeautifulSoup(self.html, \"html.parser\")\n",
    "            self.html_source = self.soup.prettify(\"utf-8\")\n",
    "\n",
    "    def _disable_Images_Firefox_Profile(self):\n",
    "        firefoxProfile = webdriver.FirefoxProfile()\n",
    "        firefoxProfile.set_preference(\"permissions.default.image\", 2)\n",
    "        firefoxProfile.set_preference(\n",
    "            \"dom.ipc.plugins.enabled.libflashplayer.so\", \"false\"\n",
    "        )\n",
    "        return firefoxProfile"
   ]
  },
  {
   "cell_type": "code",
   "execution_count": 9,
   "metadata": {},
   "outputs": [
    {
     "ename": "NameError",
     "evalue": "name 'Options' is not defined",
     "output_type": "error",
     "traceback": [
      "\u001b[0;31m---------------------------------------------------------------------------\u001b[0m",
      "\u001b[0;31mNameError\u001b[0m                                 Traceback (most recent call last)",
      "\u001b[0;32m<ipython-input-9-10bf3b2aa3de>\u001b[0m in \u001b[0;36m<module>\u001b[0;34m()\u001b[0m\n\u001b[0;32m----> 1\u001b[0;31m \u001b[0mVikas\u001b[0m \u001b[0;34m=\u001b[0m \u001b[0mWebDriverSetup\u001b[0m\u001b[0;34m(\u001b[0m\u001b[0;34m\"https://www.albertsons.com/\"\u001b[0m\u001b[0;34m,\u001b[0m \u001b[0;34m\"headless\"\u001b[0m\u001b[0;34m)\u001b[0m\u001b[0;34m\u001b[0m\u001b[0;34m\u001b[0m\u001b[0m\n\u001b[0m",
      "\u001b[0;32m<ipython-input-8-50db21771742>\u001b[0m in \u001b[0;36m__init__\u001b[0;34m(self, url, headless)\u001b[0m\n\u001b[1;32m      2\u001b[0m     \u001b[0;32mdef\u001b[0m \u001b[0m__init__\u001b[0m\u001b[0;34m(\u001b[0m\u001b[0mself\u001b[0m\u001b[0;34m,\u001b[0m \u001b[0murl\u001b[0m\u001b[0;34m,\u001b[0m \u001b[0mheadless\u001b[0m\u001b[0;34m)\u001b[0m\u001b[0;34m:\u001b[0m\u001b[0;34m\u001b[0m\u001b[0;34m\u001b[0m\u001b[0m\n\u001b[1;32m      3\u001b[0m         \u001b[0mself\u001b[0m\u001b[0;34m.\u001b[0m\u001b[0m_timeout\u001b[0m \u001b[0;34m=\u001b[0m \u001b[0;36m30\u001b[0m\u001b[0;34m\u001b[0m\u001b[0;34m\u001b[0m\u001b[0m\n\u001b[0;32m----> 4\u001b[0;31m         \u001b[0mself\u001b[0m\u001b[0;34m.\u001b[0m\u001b[0m_options\u001b[0m \u001b[0;34m=\u001b[0m \u001b[0mOptions\u001b[0m\u001b[0;34m(\u001b[0m\u001b[0;34m)\u001b[0m\u001b[0;34m\u001b[0m\u001b[0;34m\u001b[0m\u001b[0m\n\u001b[0m\u001b[1;32m      5\u001b[0m         \u001b[0mself\u001b[0m\u001b[0;34m.\u001b[0m\u001b[0m_options\u001b[0m\u001b[0;34m.\u001b[0m\u001b[0mheadless\u001b[0m \u001b[0;34m=\u001b[0m \u001b[0mheadless\u001b[0m\u001b[0;34m\u001b[0m\u001b[0;34m\u001b[0m\u001b[0m\n\u001b[1;32m      6\u001b[0m         \u001b[0mself\u001b[0m\u001b[0;34m.\u001b[0m\u001b[0m_profile\u001b[0m \u001b[0;34m=\u001b[0m \u001b[0mself\u001b[0m\u001b[0;34m.\u001b[0m\u001b[0m_disable_Images_Firefox_Profile\u001b[0m\u001b[0;34m(\u001b[0m\u001b[0;34m)\u001b[0m\u001b[0;34m\u001b[0m\u001b[0;34m\u001b[0m\u001b[0m\n",
      "\u001b[0;31mNameError\u001b[0m: name 'Options' is not defined"
     ]
    }
   ],
   "source": [
    "Vikas = WebDriverSetup(\"https://www.albertsons.com/\", \"headless\")"
   ]
  },
  {
   "cell_type": "code",
   "execution_count": null,
   "metadata": {},
   "outputs": [],
   "source": []
  }
 ],
 "metadata": {
  "kernelspec": {
   "display_name": "Python 3",
   "language": "python",
   "name": "python3"
  },
  "language_info": {
   "codemirror_mode": {
    "name": "ipython",
    "version": 3
   },
   "file_extension": ".py",
   "mimetype": "text/x-python",
   "name": "python",
   "nbconvert_exporter": "python",
   "pygments_lexer": "ipython3",
   "version": "3.7.3"
  }
 },
 "nbformat": 4,
 "nbformat_minor": 2
}
