{
 "cells": [
  {
   "cell_type": "code",
   "execution_count": 4,
   "metadata": {},
   "outputs": [],
   "source": [
    "#define ZipCode\n",
    "ZIP_CODE = '92602'\n",
    "SEARCH_ITEM = 'Milk'"
   ]
  },
  {
   "cell_type": "code",
   "execution_count": 5,
   "metadata": {},
   "outputs": [],
   "source": [
    "from selenium import webdriver\n",
    "from selenium.webdriver.common.keys import Keys\n",
    "import time"
   ]
  },
  {
   "cell_type": "code",
   "execution_count": 9,
   "metadata": {},
   "outputs": [],
   "source": [
    "try:\n",
    "    url = 'https://www.ralphs.com/'\n",
    "    options = webdriver.ChromeOptions()\n",
    "    options.add_argument(\"--disable-extensions\")\n",
    "    options.add_argument(\"--disable-notifications\")\n",
    "    options.binary_location = '/Applications/Google Chrome.app/Contents/MacOS/Google Chrome'\n",
    "    chrome_driver_binary = '/usr/local/bin/chromedriver'\n",
    "    \n",
    "    \n",
    "    driver = webdriver.Chrome(chrome_driver_binary, options=options)\n",
    "    driver.set_window_size(800, 600)\n",
    "    driver.implicitly_wait(6)\n",
    "    driver.get(url)\n",
    "    driver.find_element_by_xpath(\"//button[@class='kds-GlobalMessage-closeButton p-0 border-none text-default-900 rounded-full']\").click()\n",
    "    driver.find_element_by_xpath(\"//button[@class='CurrentModality-button py-4 px-0 text-left']\").click()\n",
    "    driver.find_element_by_xpath(\"//input[@class='kds-Input kds-Input--compact']\").clear()\n",
    "    driver.find_element_by_xpath(\"//input[@class='kds-Input kds-Input--compact']\").send_keys(ZIP_CODE)\n",
    "    driver.find_element_by_xpath(\"//button[@class='kds-Button kds-Button--primary kds-Button--compact']\").click()\n",
    "    driver.find_element_by_xpath(\"//button[@aria-label='In-Store [object Object]   Select Store']\").click()\n",
    "    driver.find_element_by_xpath(\"//button[@class='kds-Button kds-Button--primary kds-Button--compact']\").click()\n",
    "    driver.find_element_by_xpath(\"//button[@class='SearchButton text-default-400 border border-default-900']\").click()\n",
    "    driver.find_element_by_id(\"searchbar\").send_keys(SEARCH_ITEM)\n",
    "    time.sleep(10)\n",
    "#     driver.find_element_by_xpath(\"//button[@class='kds-Button kds-Button--primaryInverse kds-Button--hasIconOnly kds-FormField-iconButton']\").click()\n",
    "#     driver.wait(until.titleIs(''), 1000)\n",
    "except Exception as e:\n",
    "    print(e)"
   ]
  },
  {
   "cell_type": "code",
   "execution_count": null,
   "metadata": {},
   "outputs": [],
   "source": []
  }
 ],
 "metadata": {
  "kernelspec": {
   "display_name": "Python 3",
   "language": "python",
   "name": "python3"
  },
  "language_info": {
   "codemirror_mode": {
    "name": "ipython",
    "version": 3
   },
   "file_extension": ".py",
   "mimetype": "text/x-python",
   "name": "python",
   "nbconvert_exporter": "python",
   "pygments_lexer": "ipython3",
   "version": "3.7.3"
  }
 },
 "nbformat": 4,
 "nbformat_minor": 2
}
