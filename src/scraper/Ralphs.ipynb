{
 "cells": [
  {
   "cell_type": "code",
   "execution_count": 1,
   "metadata": {},
   "outputs": [],
   "source": [
    "#define ZipCode\n",
    "ZIP_CODE = '92602'\n",
    "SEARCH_ITEM = 'Milk'"
   ]
  },
  {
   "cell_type": "code",
   "execution_count": 2,
   "metadata": {},
   "outputs": [],
   "source": [
    "from selenium import webdriver\n",
    "from selenium.webdriver.common.keys import Keys\n",
    "import time\n",
    "import json"
   ]
  },
  {
   "cell_type": "code",
   "execution_count": 3,
   "metadata": {},
   "outputs": [],
   "source": [
    "def processProduct(product):\n",
    "    print(product.get_attribute('innerHTML'))\n",
    "    "
   ]
  },
  {
   "cell_type": "code",
   "execution_count": 4,
   "metadata": {},
   "outputs": [
    {
     "name": "stdout",
     "output_type": "stream",
     "text": [
      "<div class=\"ProductCard-imageBlock\"><a href=\"/p/ralphs-2-reduced-fat-milk/0001111041376\" class=\"Color Link\"><div class=\"ImageLoader is-loaded\"><img alt=\"Ralphs 2% Reduced Fat Milk\" class=\"ImageLoader-image\" src=\"https://www.kroger.com/product/images/medium/front/0001111041376\"></div></a></div><data value=\"2.99\" typeof=\"Price\" class=\"kds-Price\" aria-label=\"Sale: $2.99 discounted from $3.49\"><meta name=\"priceCurrency\" content=\"USD\"><mark class=\"kds-Price-promotional\">$2.99</mark>&nbsp;<span class=\"screen-reader\"> discounted from </span><s class=\"kds-Price-original\">$3.49</s></data><h3 class=\"ProductCard-nameHeading\"><a href=\"/p/ralphs-2-reduced-fat-milk/0001111041376\" class=\"Color ProductCard-name Link\">Ralphs 2% Reduced Fat Milk</a></h3><div class=\"ProductCard-sellBy ProductCard-sellBy-unit\">1 gal</div><div class=\"ModalityInfo\"><div class=\"AvailableModalities\"><span class=\"kds-Text--s AvailableModalities-line1 text-positive-800 block\">Pickup &amp; Delivery Available</span><span class=\"kds-Text--s AvailableModalities-line2 text-default-700 block\">Sold in Store</span></div></div><div class=\"ProductCard-footer\"><div class=\"ProductCard-messages\"></div><button class=\"kds-Button kds-Button--primary kds-Button--compact AddItemSignInBtn mb-8 md:mb-0 w-full\">Sign In to Add</button></div>\n"
     ]
    }
   ],
   "source": [
    "try:\n",
    "    url = 'https://www.ralphs.com/'\n",
    "    options = webdriver.ChromeOptions()\n",
    "    options.add_argument(\"--disable-extensions\")\n",
    "    options.add_argument(\"--disable-notifications\")\n",
    "    options.binary_location = '/Applications/Google Chrome.app/Contents/MacOS/Google Chrome'\n",
    "    chrome_driver_binary = '/usr/local/bin/chromedriver'\n",
    "    \n",
    "    \n",
    "    driver = webdriver.Chrome(chrome_driver_binary, options=options)\n",
    "    driver.implicitly_wait(6)\n",
    "    driver.get(url)\n",
    "    driver.find_element_by_xpath(\"//button[@class='kds-GlobalMessage-closeButton p-0 border-none text-default-900 rounded-full']\").click()\n",
    "    driver.find_element_by_xpath(\"//button[@class='CurrentModality-button py-4 px-0 text-left']\").click()\n",
    "    driver.find_element_by_xpath(\"//input[@class='kds-Input kds-Input--compact']\").clear()\n",
    "    driver.find_element_by_xpath(\"//input[@class='kds-Input kds-Input--compact']\").send_keys(ZIP_CODE)\n",
    "    driver.find_element_by_xpath(\"//button[@class='kds-Button kds-Button--primary kds-Button--compact']\").click()\n",
    "    driver.find_element_by_xpath(\"//button[@aria-label='In-Store [object Object]   Select Store']\").click()\n",
    "    driver.find_element_by_xpath(\"//button[@class='kds-Button kds-Button--primary kds-Button--compact']\").click()\n",
    "    driver.find_element_by_xpath(\"//button[@class='SearchButton text-default-400 border border-default-900']\").click()\n",
    "    driver.find_element_by_id(\"searchbar\").send_keys(SEARCH_ITEM)\n",
    "    driver.find_element_by_xpath(\"//button[@class='kds-Toast-closeButton text-default-900 rounded-full p-0 border-none']\").click()\n",
    "    driver.find_element_by_xpath(\"//button[@class='kds-Button kds-Button--primaryInverse kds-Button--hasIconOnly kds-FormField-iconButton']\").click()\n",
    "    hasNextPage = True\n",
    "    while hasNextPage:\n",
    "        productCard = driver.find_elements_by_class_name('ProductCard')\n",
    "        for product in productCard:\n",
    "            processProduct(product)\n",
    "            break\n",
    "        break\n",
    "        nextPageLink = driver.find_elements_by_xpath(\"//li[@class='Pagination-item Pagination-next']\")\n",
    "        hasNextPage = (len(nextPageLink) > 0)\n",
    "        if hasNextPage:\n",
    "            nextPageLink[0].click()\n",
    "except Exception as e:\n",
    "    print(e)"
   ]
  },
  {
   "cell_type": "code",
   "execution_count": null,
   "metadata": {},
   "outputs": [],
   "source": []
  }
 ],
 "metadata": {
  "kernelspec": {
   "display_name": "Python 3",
   "language": "python",
   "name": "python3"
  },
  "language_info": {
   "codemirror_mode": {
    "name": "ipython",
    "version": 3
   },
   "file_extension": ".py",
   "mimetype": "text/x-python",
   "name": "python",
   "nbconvert_exporter": "python",
   "pygments_lexer": "ipython3",
   "version": "3.7.6"
  }
 },
 "nbformat": 4,
 "nbformat_minor": 2
}
