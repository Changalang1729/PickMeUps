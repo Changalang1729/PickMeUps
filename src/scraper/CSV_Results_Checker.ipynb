{
 "cells": [
  {
   "cell_type": "code",
   "execution_count": 16,
   "metadata": {},
   "outputs": [],
   "source": [
    "import sys\n",
    "import pandas as pd\n",
    "import os\n",
    "import string"
   ]
  },
  {
   "cell_type": "code",
   "execution_count": 17,
   "metadata": {},
   "outputs": [],
   "source": [
    "df = pd.read_csv('ralphs_data/13321 Jamboree Rd, Tustin, CA/Bread.csv')"
   ]
  },
  {
   "cell_type": "code",
   "execution_count": 19,
   "metadata": {},
   "outputs": [
    {
     "ename": "SyntaxError",
     "evalue": "invalid syntax (<ipython-input-19-09ddb04013af>, line 1)",
     "output_type": "error",
     "traceback": [
      "\u001b[0;36m  File \u001b[0;32m\"<ipython-input-19-09ddb04013af>\"\u001b[0;36m, line \u001b[0;32m1\u001b[0m\n\u001b[0;31m    df.rename(\"Nature's Own Honey Wheat Sliced Bread\":\"name\")\u001b[0m\n\u001b[0m                                                     ^\u001b[0m\n\u001b[0;31mSyntaxError\u001b[0m\u001b[0;31m:\u001b[0m invalid syntax\n"
     ]
    }
   ],
   "source": [
    "df.rename(\"Nature's Own Honey Wheat Sliced Bread\":\"name\")"
   ]
  },
  {
   "cell_type": "code",
   "execution_count": 14,
   "metadata": {},
   "outputs": [],
   "source": [
    "def results_adder(query):\n",
    "    for i in range(0, len(df)):\n",
    "        if(query.lower() in df[])\n",
    "#         print(df[\"3.79\"][i])"
   ]
  },
  {
   "cell_type": "code",
   "execution_count": 15,
   "metadata": {},
   "outputs": [
    {
     "name": "stdout",
     "output_type": "stream",
     "text": [
      "1.25\n",
      "4.99\n",
      "1.79\n",
      "1.25\n",
      "2.69\n",
      "1.79\n",
      "3.99\n",
      "1.25\n",
      "2.49\n",
      "5.99\n",
      "1.79\n",
      "5.49\n",
      "4.99\n",
      "3.49\n",
      "1.25\n",
      "5.99\n",
      "3.99\n",
      "2.29\n",
      "4.59\n",
      "3.79\n",
      "4.99\n",
      "2.49\n",
      "1.79\n",
      "2.29\n",
      "1.79\n",
      "2.99\n",
      "2.49\n",
      "1.79\n",
      "1.25\n",
      "3.99\n",
      "5.99\n",
      "3.99\n",
      "3.34\n",
      "3.99\n",
      "1.79\n",
      "5.99\n",
      "4.99\n",
      "5.99\n",
      "1.79\n",
      "2.99\n",
      "5.49\n",
      "5.99\n",
      "4.59\n",
      "2.99\n",
      "2.19\n",
      "5.99\n",
      "2.59\n",
      "3.5\n",
      "1.29\n",
      "3.39\n",
      "5.49\n",
      "1.99\n",
      "1.29\n",
      "2.79\n",
      "5.49\n",
      "2.5\n",
      "2.29\n",
      "5.29\n",
      "5.99\n",
      "2.5\n",
      "5.49\n",
      "2.99\n",
      "4.79\n",
      "4.99\n",
      "3.99\n",
      "4.99\n",
      "2.49\n",
      "1.59\n",
      "5.49\n",
      "4.99\n",
      "4.99\n",
      "4.59\n",
      "2.0\n",
      "4.99\n",
      "3.99\n",
      "1.79\n",
      "8.99\n",
      "5.99\n",
      "4.99\n",
      "3.99\n",
      "1.25\n",
      "1.25\n",
      "4.49\n",
      "3.99\n",
      "2.99\n",
      "5.99\n",
      "1.99\n",
      "3.99\n",
      "4.99\n",
      "5.99\n",
      "4.49\n",
      "1.99\n",
      "4.99\n",
      "5.99\n",
      "2.99\n",
      "1.99\n",
      "1.25\n",
      "2.49\n",
      "3.99\n",
      "2.99\n",
      "5.49\n",
      "3.49\n",
      "3.99\n",
      "3.49\n",
      "1.99\n",
      "2.29\n",
      "5.99\n",
      "2.59\n",
      "2.5\n",
      "3.49\n",
      "2.59\n",
      "5.99\n",
      "3.34\n",
      "3.59\n",
      "2.99\n",
      "5.99\n",
      "2.5\n",
      "1.99\n",
      "1.99\n",
      "4.79\n",
      "3.39\n",
      "5.79\n",
      "5.99\n",
      "3.79\n",
      "3.49\n",
      "5.99\n",
      "2.49\n",
      "3.99\n",
      "3.29\n",
      "2.99\n",
      "7.29\n",
      "4.79\n",
      "4.59\n",
      "3.79\n",
      "3.99\n",
      "4.59\n",
      "3.99\n",
      "3.79\n"
     ]
    }
   ],
   "source": [
    "results_adder('string')"
   ]
  },
  {
   "cell_type": "code",
   "execution_count": null,
   "metadata": {},
   "outputs": [],
   "source": []
  }
 ],
 "metadata": {
  "kernelspec": {
   "display_name": "Python 3",
   "language": "python",
   "name": "python3"
  },
  "language_info": {
   "codemirror_mode": {
    "name": "ipython",
    "version": 3
   },
   "file_extension": ".py",
   "mimetype": "text/x-python",
   "name": "python",
   "nbconvert_exporter": "python",
   "pygments_lexer": "ipython3",
   "version": "3.7.3"
  }
 },
 "nbformat": 4,
 "nbformat_minor": 2
}
