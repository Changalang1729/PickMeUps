{
 "cells": [
  {
   "cell_type": "code",
   "execution_count": 1,
   "metadata": {},
   "outputs": [],
   "source": [
    "#define ZipCode\n",
    "ZIP_CODE = '92602'\n",
    "SEARCH_ITEM = 'Milk'"
   ]
  },
  {
   "cell_type": "code",
   "execution_count": 2,
   "metadata": {},
   "outputs": [],
   "source": [
    "from selenium import webdriver\n",
    "from selenium.webdriver.common.keys import Keys\n",
    "import time\n",
    "import json"
   ]
  },
  {
   "cell_type": "code",
   "execution_count": 3,
   "metadata": {},
   "outputs": [],
   "source": [
    "def processProduct(product):\n",
    "    print(product.get_attribute('innerHTML'))\n",
    "    "
   ]
  },
  {
   "cell_type": "code",
   "execution_count": 4,
   "metadata": {},
   "outputs": [
    {
     "ename": "SyntaxError",
     "evalue": "'return' outside function (<ipython-input-4-75ac69a07dc0>, line 29)",
     "output_type": "error",
     "traceback": [
      "\u001b[0;36m  File \u001b[0;32m\"<ipython-input-4-75ac69a07dc0>\"\u001b[0;36m, line \u001b[0;32m29\u001b[0m\n\u001b[0;31m    return\u001b[0m\n\u001b[0m    ^\u001b[0m\n\u001b[0;31mSyntaxError\u001b[0m\u001b[0;31m:\u001b[0m 'return' outside function\n"
     ]
    }
   ],
   "source": [
    "try:\n",
    "    url = 'https://www.ralphs.com/'\n",
    "    options = webdriver.ChromeOptions()\n",
    "    options.add_argument(\"--disable-extensions\")\n",
    "    options.add_argument(\"--disable-notifications\")\n",
    "    options.binary_location = '/Applications/Google Chrome.app/Contents/MacOS/Google Chrome'\n",
    "    chrome_driver_binary = '/usr/local/bin/chromedriver'\n",
    "    \n",
    "    \n",
    "    driver = webdriver.Chrome(chrome_driver_binary, options=options)\n",
    "    driver.implicitly_wait(6)\n",
    "    driver.get(url)\n",
    "    driver.find_element_by_xpath(\"//button[@class='kds-GlobalMessage-closeButton p-0 border-none text-default-900 rounded-full']\").click()\n",
    "    driver.find_element_by_xpath(\"//button[@class='CurrentModality-button py-4 px-0 text-left']\").click()\n",
    "    driver.find_element_by_xpath(\"//input[@class='kds-Input kds-Input--compact']\").clear()\n",
    "    driver.find_element_by_xpath(\"//input[@class='kds-Input kds-Input--compact']\").send_keys(ZIP_CODE)\n",
    "    driver.find_element_by_xpath(\"//button[@class='kds-Button kds-Button--primary kds-Button--compact']\").click()\n",
    "    driver.find_element_by_xpath(\"//button[@aria-label='In-Store [object Object]   Select Store']\").click()\n",
    "    driver.find_element_by_xpath(\"//button[@class='kds-Button kds-Button--primary kds-Button--compact']\").click()\n",
    "    driver.find_element_by_xpath(\"//button[@class='SearchButton text-default-400 border border-default-900']\").click()\n",
    "    driver.find_element_by_id(\"searchbar\").send_keys(SEARCH_ITEM)\n",
    "    driver.find_element_by_xpath(\"//button[@class='kds-Toast-closeButton text-default-900 rounded-full p-0 border-none']\").click()\n",
    "    driver.find_element_by_xpath(\"//button[@class='kds-Button kds-Button--primaryInverse kds-Button--hasIconOnly kds-FormField-iconButton']\").click()\n",
    "    hasNextPage = True\n",
    "    while hasNextPage:\n",
    "        productCard = driver.find_elements_by_class_name('ProductCard')\n",
    "        for product in productCard:\n",
    "            processProduct(product)\n",
    "            break\n",
    "        break\n",
    "        nextPageLink = driver.find_elements_by_xpath(\"//li[@class='Pagination-item Pagination-next']\")\n",
    "        hasNextPage = (len(nextPageLink) > 0)\n",
    "        if hasNextPage:\n",
    "            nextPageLink[0].click()\n",
    "except Exception as e:\n",
    "    print(e)"
   ]
  },
  {
   "cell_type": "code",
   "execution_count": null,
   "metadata": {},
   "outputs": [],
   "source": []
  }
 ],
 "metadata": {
  "kernelspec": {
   "display_name": "Python 3",
   "language": "python",
   "name": "python3"
  },
  "language_info": {
   "codemirror_mode": {
    "name": "ipython",
    "version": 3
   },
   "file_extension": ".py",
   "mimetype": "text/x-python",
   "name": "python",
   "nbconvert_exporter": "python",
   "pygments_lexer": "ipython3",
   "version": "3.7.6"
  }
 },
 "nbformat": 4,
 "nbformat_minor": 2
}
